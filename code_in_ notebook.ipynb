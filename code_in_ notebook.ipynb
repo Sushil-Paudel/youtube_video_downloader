{
 "cells": [
  {
   "cell_type": "code",
   "execution_count": 1,
   "metadata": {},
   "outputs": [],
   "source": [
    "#pip install pytube #installing necessary library\n",
    "#Importing pytube library\n",
    "from pytube import YouTube\n",
    "import subprocess\n",
    "import os\n",
    "#Input arguments for download path and player application path\n",
    "path=input(\"Where do you want to save your file?\")\n",
    "playerpath=input(\"Path of your media player apllication file \")#\"C:\\Program Files (x86)\\Windows Media Player\\wmplayer.exe\"\n",
    "\n",
    "#Video link \n",
    "link=input(\"Enter the video link\")\n",
    "videoname=input(\"Enter the video name in fillname.mp4 format\")\n",
    "\n",
    "#handling error while requesting video\n",
    "try:\n",
    "    content=YouTube(link)\n",
    "except:\n",
    "    print(\"Connection Error\")\n",
    "\n",
    "#Filtering video in the mp4 extension \n",
    "try:\n",
    "    file=content.streams.filter(progressive=True, file_extension='mp4').first().download(path,filename=(videoname))\n",
    "except:\n",
    "    print('some error')\n",
    "\n",
    "#playing the downloaded video file in video player\n",
    "try:\n",
    "    p=subprocess.Popen([playerpath,file])\n",
    "except:\n",
    "    print(\"Something happens\")"
   ]
  }
 ],
 "metadata": {
  "kernelspec": {
   "display_name": "base",
   "language": "python",
   "name": "python3"
  },
  "language_info": {
   "codemirror_mode": {
    "name": "ipython",
    "version": 3
   },
   "file_extension": ".py",
   "mimetype": "text/x-python",
   "name": "python",
   "nbconvert_exporter": "python",
   "pygments_lexer": "ipython3",
   "version": "3.9.7"
  },
  "orig_nbformat": 4,
  "vscode": {
   "interpreter": {
    "hash": "153ed0e0dede5b17044ed56a49ca79a0d78e8d763ca21b9e9fbda64f51ed6213"
   }
  }
 },
 "nbformat": 4,
 "nbformat_minor": 2
}
